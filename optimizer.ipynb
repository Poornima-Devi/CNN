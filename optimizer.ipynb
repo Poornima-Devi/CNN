{
  "nbformat": 4,
  "nbformat_minor": 0,
  "metadata": {
    "colab": {
      "name": "optimizer.ipynb",
      "provenance": [],
      "collapsed_sections": [],
      "authorship_tag": "ABX9TyNsa11MmjxNu0kVCkKEPmg6",
      "include_colab_link": true
    },
    "kernelspec": {
      "name": "python3",
      "display_name": "Python 3"
    }
  },
  "cells": [
    {
      "cell_type": "markdown",
      "metadata": {
        "id": "view-in-github",
        "colab_type": "text"
      },
      "source": [
        "<a href=\"https://colab.research.google.com/github/Poornima-Devi/CNN/blob/main/optimizer.ipynb\" target=\"_parent\"><img src=\"https://colab.research.google.com/assets/colab-badge.svg\" alt=\"Open In Colab\"/></a>"
      ]
    },
    {
      "cell_type": "markdown",
      "metadata": {
        "id": "ScgF7ePVrSS2"
      },
      "source": [
        "Import neccessary libraries"
      ]
    },
    {
      "cell_type": "code",
      "metadata": {
        "id": "kcpspR9Ncj7b"
      },
      "source": [
        "from keras.utils import np_utils\r\n",
        "from keras.datasets import mnist\r\n",
        "import seaborn as sns\r\n",
        "from keras.initializers import RandomNormal"
      ],
      "execution_count": 2,
      "outputs": []
    },
    {
      "cell_type": "code",
      "metadata": {
        "id": "ypzeNRRCcnH_"
      },
      "source": [
        "import matplotlib.pyplot as plt\r\n",
        "import numpy as np\r\n",
        "import time\r\n",
        "\r\n",
        "def plt_dynamic(x,vy,ty,ax, colors=['b']):\r\n",
        "  ax.plot(x, vy, 'b', label=\"Validation loss\")\r\n",
        "  ax.plot(x, ty, 'r', label=\"Train loss\")\r\n",
        "  plt.legend()\r\n",
        "  plt.grid()\r\n",
        "  fig.canvas.draw()"
      ],
      "execution_count": 4,
      "outputs": []
    },
    {
      "cell_type": "markdown",
      "metadata": {
        "id": "IOoK-pMXrfTk"
      },
      "source": [
        "Loading MNIST Data"
      ]
    },
    {
      "cell_type": "code",
      "metadata": {
        "colab": {
          "base_uri": "https://localhost:8080/"
        },
        "id": "byb-RwechY5J",
        "outputId": "6777f3d1-143d-4b44-a5e7-a7755b1ed05f"
      },
      "source": [
        "(X_train, y_train), (X_test, y_test) = mnist.load_data()"
      ],
      "execution_count": 5,
      "outputs": [
        {
          "output_type": "stream",
          "text": [
            "Downloading data from https://storage.googleapis.com/tensorflow/tf-keras-datasets/mnist.npz\n",
            "11493376/11490434 [==============================] - 0s 0us/step\n"
          ],
          "name": "stdout"
        }
      ]
    },
    {
      "cell_type": "code",
      "metadata": {
        "colab": {
          "base_uri": "https://localhost:8080/"
        },
        "id": "mzBaSMjshjmt",
        "outputId": "94f2f748-3f66-42bf-d719-9860f5027ff2"
      },
      "source": [
        "print(\"Number of training samples:\", X_train.shape[0], \"and each image is of shape (%d,%d)\" %(X_train.shape[1], (X_train.shape[2])))\r\n",
        "print(\"Number of testing samples:\", X_test.shape[0], \"and each image is of shape (%d,%d)\" %(X_test.shape[1], (X_test.shape[2])))"
      ],
      "execution_count": 7,
      "outputs": [
        {
          "output_type": "stream",
          "text": [
            "Number of training samples: 60000 and each image is of shape (28,28)\n",
            "Number of testing samples: 10000 and each image is of shape (28,28)\n"
          ],
          "name": "stdout"
        }
      ]
    },
    {
      "cell_type": "markdown",
      "metadata": {
        "id": "4inmmhPcrqq6"
      },
      "source": [
        "For each image we have a (28*28) vector\r\n",
        "\r\n",
        "We will convert the (28 * 28) vector into single dimensional vector of 1*784"
      ]
    },
    {
      "cell_type": "code",
      "metadata": {
        "id": "gwX4dr4OiQ2S"
      },
      "source": [
        "X_train= X_train.reshape(X_train.shape[0], X_train.shape[1]*X_train.shape[2])\r\n",
        "X_test= X_test.reshape(X_test.shape[0], X_test.shape[1]*X_test.shape[2])"
      ],
      "execution_count": 8,
      "outputs": []
    },
    {
      "cell_type": "markdown",
      "metadata": {
        "id": "DC-a4HVssKDy"
      },
      "source": [
        "After converting input images"
      ]
    },
    {
      "cell_type": "code",
      "metadata": {
        "colab": {
          "base_uri": "https://localhost:8080/"
        },
        "id": "d7CnAhXFit8D",
        "outputId": "7bf27123-0963-429e-fb89-3348f8d607a3"
      },
      "source": [
        "print(\"Number of training samples:\", X_train.shape[0], \"and each image is of shape (%d)\" %(X_train.shape[1]))\r\n",
        "print(\"Number of testing samples:\", X_test.shape[0], \"and each image is of shape (%d)\" %(X_test.shape[1]))"
      ],
      "execution_count": 10,
      "outputs": [
        {
          "output_type": "stream",
          "text": [
            "Number of training samples: 60000 and each image is of shape (784)\n",
            "Number of testing samples: 10000 and each image is of shape (784)\n"
          ],
          "name": "stdout"
        }
      ]
    },
    {
      "cell_type": "markdown",
      "metadata": {
        "id": "GTCEjnLnsTUt"
      },
      "source": [
        "If we observe the above metrics each cell is having a value between 0-255,\r\n",
        "\r\n",
        "before we move to apply machine learning algorithm lets normalize the data\r\n",
        "\r\n",
        "X=> (X-Xmin)/(Xmax-Xmin) = X/255"
      ]
    },
    {
      "cell_type": "code",
      "metadata": {
        "id": "DSTQwhVRi5GN"
      },
      "source": [
        "X_train = X_train/255\r\n",
        "X_test= X_test/255"
      ],
      "execution_count": 11,
      "outputs": []
    },
    {
      "cell_type": "markdown",
      "metadata": {
        "id": "zYtgPs9As6Nc"
      },
      "source": [
        "Here we are having a class number for each image.\r\n",
        "\r\n",
        "Lets convert this into a 10 dimensional vector.\r\n",
        "\r\n",
        "For example: consider an image 5, convert it into 5 => [0,0,0,0,0,1,0,0,0,0]\r\n"
      ]
    },
    {
      "cell_type": "code",
      "metadata": {
        "colab": {
          "base_uri": "https://localhost:8080/"
        },
        "id": "tHbJ9V9ojDc_",
        "outputId": "852ec99f-8574-4e5b-f957-a15d83f66a66"
      },
      "source": [
        "print(\"Class label of first image:\", y_train[0])\r\n",
        "\r\n",
        "Y_train=np_utils.to_categorical(y_train,10)\r\n",
        "Y_test=np_utils.to_categorical(y_test,10)\r\n",
        "\r\n",
        "print(\"After converting the output into a vector:\", Y_train[0])"
      ],
      "execution_count": 12,
      "outputs": [
        {
          "output_type": "stream",
          "text": [
            "Class label of first image: 5\n",
            "After converting the output into a vector: [0. 0. 0. 0. 0. 1. 0. 0. 0. 0.]\n"
          ],
          "name": "stdout"
        }
      ]
    },
    {
      "cell_type": "code",
      "metadata": {
        "id": "nC4xhhbojq1F"
      },
      "source": [
        "from keras.models import Sequential\r\n",
        "from keras.layers import Dense, Activation"
      ],
      "execution_count": 13,
      "outputs": []
    },
    {
      "cell_type": "code",
      "metadata": {
        "id": "yjvLmEkFj09W"
      },
      "source": [
        "output_dim= 10\r\n",
        "input_dim= X_train.shape[1]\r\n",
        "\r\n",
        "batch_size=128\r\n",
        "epoch=5"
      ],
      "execution_count": 15,
      "outputs": []
    },
    {
      "cell_type": "code",
      "metadata": {
        "id": "HZnP_40sl6yz"
      },
      "source": [
        "from tensorflow.keras.layers import BatchNormalization"
      ],
      "execution_count": 29,
      "outputs": []
    },
    {
      "cell_type": "code",
      "metadata": {
        "id": "lSWrM_ESmvkH"
      },
      "source": [
        "from keras.layers import Dropout"
      ],
      "execution_count": 31,
      "outputs": []
    },
    {
      "cell_type": "markdown",
      "metadata": {
        "id": "Vc8rGgrFtebq"
      },
      "source": [
        "The architecture with 3 hidden layers and a softmax layer."
      ]
    },
    {
      "cell_type": "code",
      "metadata": {
        "colab": {
          "base_uri": "https://localhost:8080/"
        },
        "id": "SQlqo0RCkGu0",
        "outputId": "f5bdce89-e51f-4f33-b7eb-43cca73551d7"
      },
      "source": [
        "s2_model= Sequential()\r\n",
        "s2_model.add(Dense(622, activation='relu', input_shape=(input_dim,), kernel_initializer=RandomNormal(mean=0.0, stddev=0.5, seed= None)))\r\n",
        "s2_model.add(BatchNormalization())\r\n",
        "s2_model.add(Dropout(0.5))\r\n",
        "\r\n",
        "s2_model.add(Dense(312, activation=\"relu\", input_shape=(input_dim,), kernel_initializer=RandomNormal(mean=0.0, stddev=0.5, seed= None)))\r\n",
        "s2_model.add(BatchNormalization())\r\n",
        "s2_model.add(Dropout(0.5))\r\n",
        "\r\n",
        "s2_model.add(Dense(144, activation=\"relu\", input_shape=(input_dim,), kernel_initializer=RandomNormal(mean=0.0, stddev=0.5, seed= None)))\r\n",
        "s2_model.add(BatchNormalization())\r\n",
        "s2_model.add(Dropout(0.5))\r\n",
        "\r\n",
        "s2_model.add(Dense(output_dim, activation='softmax'))\r\n",
        "\r\n",
        "s2_model.summary()"
      ],
      "execution_count": 33,
      "outputs": [
        {
          "output_type": "stream",
          "text": [
            "Model: \"sequential_9\"\n",
            "_________________________________________________________________\n",
            "Layer (type)                 Output Shape              Param #   \n",
            "=================================================================\n",
            "dense_10 (Dense)             (None, 622)               488270    \n",
            "_________________________________________________________________\n",
            "batch_normalization_2 (Batch (None, 622)               2488      \n",
            "_________________________________________________________________\n",
            "dropout_1 (Dropout)          (None, 622)               0         \n",
            "_________________________________________________________________\n",
            "dense_11 (Dense)             (None, 312)               194376    \n",
            "_________________________________________________________________\n",
            "batch_normalization_3 (Batch (None, 312)               1248      \n",
            "_________________________________________________________________\n",
            "dropout_2 (Dropout)          (None, 312)               0         \n",
            "_________________________________________________________________\n",
            "dense_12 (Dense)             (None, 144)               45072     \n",
            "_________________________________________________________________\n",
            "batch_normalization_4 (Batch (None, 144)               576       \n",
            "_________________________________________________________________\n",
            "dropout_3 (Dropout)          (None, 144)               0         \n",
            "_________________________________________________________________\n",
            "dense_13 (Dense)             (None, 10)                1450      \n",
            "=================================================================\n",
            "Total params: 733,480\n",
            "Trainable params: 731,324\n",
            "Non-trainable params: 2,156\n",
            "_________________________________________________________________\n"
          ],
          "name": "stdout"
        }
      ]
    },
    {
      "cell_type": "code",
      "metadata": {
        "id": "67AQurZUtlMO"
      },
      "source": [
        "SGD Optimizer"
      ],
      "execution_count": null,
      "outputs": []
    },
    {
      "cell_type": "code",
      "metadata": {
        "colab": {
          "base_uri": "https://localhost:8080/"
        },
        "id": "-cwNXffQm8-I",
        "outputId": "8d816ea2-d30b-43fa-c901-fe7e0cc034a4"
      },
      "source": [
        "s2_model.compile(optimizer=\"SGD\", loss='categorical_crossentropy', metrics=['accuracy'])\r\n",
        "\r\n",
        "history= s2_model.fit(X_train, Y_train, batch_size=batch_size, epochs=epoch, verbose=1, validation_data= (X_test, Y_test))\r\n"
      ],
      "execution_count": 36,
      "outputs": [
        {
          "output_type": "stream",
          "text": [
            "Epoch 1/5\n",
            "469/469 [==============================] - 8s 14ms/step - loss: 3.0515 - accuracy: 0.1493 - val_loss: 1.6290 - val_accuracy: 0.4563\n",
            "Epoch 2/5\n",
            "469/469 [==============================] - 6s 13ms/step - loss: 1.9612 - accuracy: 0.3349 - val_loss: 1.4368 - val_accuracy: 0.5505\n",
            "Epoch 3/5\n",
            "469/469 [==============================] - 6s 13ms/step - loss: 1.7132 - accuracy: 0.4160 - val_loss: 1.3269 - val_accuracy: 0.5952\n",
            "Epoch 4/5\n",
            "469/469 [==============================] - 6s 13ms/step - loss: 1.6289 - accuracy: 0.4459 - val_loss: 1.2522 - val_accuracy: 0.6207\n",
            "Epoch 5/5\n",
            "469/469 [==============================] - 6s 14ms/step - loss: 1.5500 - accuracy: 0.4730 - val_loss: 1.1823 - val_accuracy: 0.6405\n"
          ],
          "name": "stdout"
        }
      ]
    },
    {
      "cell_type": "code",
      "metadata": {
        "colab": {
          "base_uri": "https://localhost:8080/",
          "height": 313
        },
        "id": "6ndxuCkonwJY",
        "outputId": "2083e09d-ce12-4daf-b124-f99c1540759d"
      },
      "source": [
        "score= s2_model.evaluate(X_test,Y_test, verbose=0)\r\n",
        "print(\"Test score:\", score[0])\r\n",
        "print(\"Test accuracy:\", score[1])\r\n",
        "\r\n",
        "fig,ax= plt.subplots(1,1)\r\n",
        "ax.set_xlabel('epoch'); ax.set_ylabel('Categorical Crossentropy Loss')\r\n",
        "\r\n",
        "x= list(range(1, epoch+1))\r\n",
        "vy= history.history['val_loss']\r\n",
        "ty= history.history['loss']\r\n",
        "plt_dynamic(x,vy,ty,ax)"
      ],
      "execution_count": 41,
      "outputs": [
        {
          "output_type": "stream",
          "text": [
            "Test score: 1.1823062896728516\n",
            "Test accuracy: 0.640500009059906\n"
          ],
          "name": "stdout"
        },
        {
          "output_type": "display_data",
          "data": {
            "image/png": "[encoded data removed]",
            "text/plain": [
              "<Figure size 432x288 with 1 Axes>"
            ]
          },
          "metadata": {
            "tags": [],
            "needs_background": "light"
          }
        }
      ]
    },
    {
      "cell_type": "markdown",
      "metadata": {
        "id": "U0HwYv-cpJXM"
      },
      "source": [
        "AdaGrad optimizer."
      ]
    },
    {
      "cell_type": "code",
      "metadata": {
        "colab": {
          "base_uri": "https://localhost:8080/"
        },
        "id": "DLz-OFLZpGgH",
        "outputId": "5e3f938c-9346-47a2-e2ba-2851e4ba595a"
      },
      "source": [
        "s2_model.compile(optimizer=\"Adagrad\", loss='categorical_crossentropy', metrics=['accuracy'])\r\n",
        "\r\n",
        "history= s2_model.fit(X_train, Y_train, batch_size=batch_size, epochs=epoch, verbose=1, validation_data=(X_test, Y_test))\r\n"
      ],
      "execution_count": 42,
      "outputs": [
        {
          "output_type": "stream",
          "text": [
            "Epoch 1/5\n",
            "469/469 [==============================] - 8s 14ms/step - loss: 1.5199 - accuracy: 0.4856 - val_loss: 1.1676 - val_accuracy: 0.6450\n",
            "Epoch 2/5\n",
            "469/469 [==============================] - 6s 14ms/step - loss: 1.5167 - accuracy: 0.4834 - val_loss: 1.1528 - val_accuracy: 0.6489\n",
            "Epoch 3/5\n",
            "469/469 [==============================] - 6s 14ms/step - loss: 1.4965 - accuracy: 0.4915 - val_loss: 1.1392 - val_accuracy: 0.6533\n",
            "Epoch 4/5\n",
            "469/469 [==============================] - 6s 14ms/step - loss: 1.4794 - accuracy: 0.4959 - val_loss: 1.1242 - val_accuracy: 0.6593\n",
            "Epoch 5/5\n",
            "469/469 [==============================] - 6s 14ms/step - loss: 1.4624 - accuracy: 0.5051 - val_loss: 1.1089 - val_accuracy: 0.6651\n"
          ],
          "name": "stdout"
        }
      ]
    },
    {
      "cell_type": "code",
      "metadata": {
        "colab": {
          "base_uri": "https://localhost:8080/",
          "height": 313
        },
        "id": "yB2h3jhppw3-",
        "outputId": "d2d5cee2-ca1e-44e3-d59b-a48df80611b2"
      },
      "source": [
        "score= s2_model.evaluate(X_test,Y_test, verbose=0)\r\n",
        "print(\"Test score:\", score[0])\r\n",
        "print(\"Test accuracy:\", score[1])\r\n",
        "\r\n",
        "fig,ax= plt.subplots(1,1)\r\n",
        "ax.set_xlabel('epoch'); ax.set_ylabel('Categorical Crossentropy Loss')\r\n",
        "\r\n",
        "x= list(range(1, epoch+1))\r\n",
        "vy= history.history['val_loss']\r\n",
        "ty= history.history['loss']\r\n",
        "plt_dynamic(x,vy,ty,ax)"
      ],
      "execution_count": 43,
      "outputs": [
        {
          "output_type": "stream",
          "text": [
            "Test score: 1.1089303493499756\n",
            "Test accuracy: 0.6650999784469604\n"
          ],
          "name": "stdout"
        },
        {
          "output_type": "display_data",
          "data": {
            "image/png": "[encoded data removed]",
            "text/plain": [
              "<Figure size 432x288 with 1 Axes>"
            ]
          },
          "metadata": {
            "tags": [],
            "needs_background": "light"
          }
        }
      ]
    },
    {
      "cell_type": "markdown",
      "metadata": {
        "id": "wFgOPYnUp6Mu"
      },
      "source": [
        "Adadelta optimizer"
      ]
    },
    {
      "cell_type": "code",
      "metadata": {
        "colab": {
          "base_uri": "https://localhost:8080/"
        },
        "id": "5IcZLH_qp8C2",
        "outputId": "2f9900cc-ccd3-4a8a-fb0c-680090faab74"
      },
      "source": [
        "s2_model.compile(optimizer=\"Adadelta\", loss='categorical_crossentropy', metrics=['accuracy'])\r\n",
        "\r\n",
        "history= s2_model.fit(X_train, Y_train, batch_size=batch_size, epochs=epoch, verbose=1, validation_data=(X_test, Y_test))"
      ],
      "execution_count": 44,
      "outputs": [
        {
          "output_type": "stream",
          "text": [
            "Epoch 1/5\n",
            "469/469 [==============================] - 8s 15ms/step - loss: 1.4499 - accuracy: 0.5049 - val_loss: 1.1053 - val_accuracy: 0.6669\n",
            "Epoch 2/5\n",
            "469/469 [==============================] - 7s 15ms/step - loss: 1.4613 - accuracy: 0.5033 - val_loss: 1.1047 - val_accuracy: 0.6669\n",
            "Epoch 3/5\n",
            "469/469 [==============================] - 7s 15ms/step - loss: 1.4455 - accuracy: 0.5086 - val_loss: 1.1046 - val_accuracy: 0.6658\n",
            "Epoch 4/5\n",
            "469/469 [==============================] - 7s 15ms/step - loss: 1.4596 - accuracy: 0.5029 - val_loss: 1.1023 - val_accuracy: 0.6676\n",
            "Epoch 5/5\n",
            "469/469 [==============================] - 7s 14ms/step - loss: 1.4504 - accuracy: 0.5089 - val_loss: 1.0958 - val_accuracy: 0.6687\n"
          ],
          "name": "stdout"
        }
      ]
    },
    {
      "cell_type": "code",
      "metadata": {
        "colab": {
          "base_uri": "https://localhost:8080/",
          "height": 313
        },
        "id": "q52dVAgsqJMR",
        "outputId": "8c8ba335-ba40-4dfc-cad5-c81266b3d7e8"
      },
      "source": [
        "score= s2_model.evaluate(X_test,Y_test, verbose=0)\r\n",
        "print(\"Test score:\", score[0])\r\n",
        "print(\"Test accuracy:\", score[1])\r\n",
        "\r\n",
        "fig,ax= plt.subplots(1,1)\r\n",
        "ax.set_xlabel('epoch'); ax.set_ylabel('Categorical Crossentropy Loss')\r\n",
        "\r\n",
        "x= list(range(1, epoch+1))\r\n",
        "vy= history.history['val_loss']\r\n",
        "ty= history.history['loss']\r\n",
        "plt_dynamic(x,vy,ty,ax)"
      ],
      "execution_count": 45,
      "outputs": [
        {
          "output_type": "stream",
          "text": [
            "Test score: 1.0958492755889893\n",
            "Test accuracy: 0.6686999797821045\n"
          ],
          "name": "stdout"
        },
        {
          "output_type": "display_data",
          "data": {
            "image/png": "[encoded data removed]",
            "text/plain": [
              "<Figure size 432x288 with 1 Axes>"
            ]
          },
          "metadata": {
            "tags": [],
            "needs_background": "light"
          }
        }
      ]
    },
    {
      "cell_type": "markdown",
      "metadata": {
        "id": "-0gA209dqPVq"
      },
      "source": [
        "RMSProp optimizer"
      ]
    },
    {
      "cell_type": "code",
      "metadata": {
        "colab": {
          "base_uri": "https://localhost:8080/"
        },
        "id": "9bVpYE3BqOzP",
        "outputId": "1bc5550f-7004-4b27-a209-ae5cdfc58c3e"
      },
      "source": [
        "s2_model.compile(optimizer=\"RMSProp\", loss='categorical_crossentropy', metrics=['accuracy'])\r\n",
        "\r\n",
        "history= s2_model.fit(X_train, Y_train, batch_size=batch_size, epochs=epoch, verbose=1, validation_data=(X_test, Y_test))"
      ],
      "execution_count": 46,
      "outputs": [
        {
          "output_type": "stream",
          "text": [
            "Epoch 1/5\n",
            "469/469 [==============================] - 9s 17ms/step - loss: 0.9640 - accuracy: 0.6811 - val_loss: 0.2760 - val_accuracy: 0.9167\n",
            "Epoch 2/5\n",
            "469/469 [==============================] - 8s 16ms/step - loss: 0.4579 - accuracy: 0.8573 - val_loss: 0.2036 - val_accuracy: 0.9363\n",
            "Epoch 3/5\n",
            "469/469 [==============================] - 8s 16ms/step - loss: 0.3403 - accuracy: 0.8976 - val_loss: 0.1678 - val_accuracy: 0.9493\n",
            "Epoch 4/5\n",
            "469/469 [==============================] - 8s 16ms/step - loss: 0.2862 - accuracy: 0.9145 - val_loss: 0.1475 - val_accuracy: 0.9531\n",
            "Epoch 5/5\n",
            "469/469 [==============================] - 8s 16ms/step - loss: 0.2373 - accuracy: 0.9277 - val_loss: 0.1290 - val_accuracy: 0.9592\n"
          ],
          "name": "stdout"
        }
      ]
    },
    {
      "cell_type": "code",
      "metadata": {
        "colab": {
          "base_uri": "https://localhost:8080/",
          "height": 313
        },
        "id": "HchAQk9SqjOn",
        "outputId": "6eaeeeda-3b9f-41a5-dbea-0caa8d4763f5"
      },
      "source": [
        "score= s2_model.evaluate(X_test,Y_test, verbose=0)\r\n",
        "print(\"Test score:\", score[0])\r\n",
        "print(\"Test accuracy:\", score[1])\r\n",
        "\r\n",
        "fig,ax= plt.subplots(1,1)\r\n",
        "ax.set_xlabel('epoch'); ax.set_ylabel('Categorical Crossentropy Loss')\r\n",
        "\r\n",
        "x= list(range(1, epoch+1))\r\n",
        "vy= history.history['val_loss']\r\n",
        "ty= history.history['loss']\r\n",
        "plt_dynamic(x,vy,ty,ax)"
      ],
      "execution_count": 47,
      "outputs": [
        {
          "output_type": "stream",
          "text": [
            "Test score: 0.1289772093296051\n",
            "Test accuracy: 0.9592000246047974\n"
          ],
          "name": "stdout"
        },
        {
          "output_type": "display_data",
          "data": {
            "image/png": "[encoded data removed]",
            "text/plain": [
              "<Figure size 432x288 with 1 Axes>"
            ]
          },
          "metadata": {
            "tags": [],
            "needs_background": "light"
          }
        }
      ]
    },
    {
      "cell_type": "markdown",
      "metadata": {
        "id": "zMYLO30JuFy0"
      },
      "source": [
        "Adam optimizer"
      ]
    },
    {
      "cell_type": "code",
      "metadata": {
        "colab": {
          "base_uri": "https://localhost:8080/"
        },
        "id": "t0i4QX5gqePU",
        "outputId": "289e32d6-7157-4060-bc45-d7e256701351"
      },
      "source": [
        "s2_model.compile(optimizer=\"Adam\", loss='categorical_crossentropy', metrics=['accuracy'])\r\n",
        "\r\n",
        "history= s2_model.fit(X_train, Y_train, batch_size=batch_size, epochs=epoch, verbose=1, validation_data=(X_test, Y_test))"
      ],
      "execution_count": 48,
      "outputs": [
        {
          "output_type": "stream",
          "text": [
            "Epoch 1/5\n",
            "469/469 [==============================] - 8s 15ms/step - loss: 0.2143 - accuracy: 0.9347 - val_loss: 0.1158 - val_accuracy: 0.9637\n",
            "Epoch 2/5\n",
            "469/469 [==============================] - 7s 14ms/step - loss: 0.1937 - accuracy: 0.9419 - val_loss: 0.1065 - val_accuracy: 0.9670\n",
            "Epoch 3/5\n",
            "469/469 [==============================] - 7s 14ms/step - loss: 0.1765 - accuracy: 0.9467 - val_loss: 0.1006 - val_accuracy: 0.9678\n",
            "Epoch 4/5\n",
            "469/469 [==============================] - 7s 14ms/step - loss: 0.1612 - accuracy: 0.9506 - val_loss: 0.0936 - val_accuracy: 0.9704\n",
            "Epoch 5/5\n",
            "469/469 [==============================] - 7s 14ms/step - loss: 0.1500 - accuracy: 0.9549 - val_loss: 0.0884 - val_accuracy: 0.9725\n"
          ],
          "name": "stdout"
        }
      ]
    },
    {
      "cell_type": "code",
      "metadata": {
        "colab": {
          "base_uri": "https://localhost:8080/",
          "height": 313
        },
        "id": "bpsJrmQpqpnq",
        "outputId": "f4cc87c5-6593-4649-ae60-7a21437a3511"
      },
      "source": [
        "score= s2_model.evaluate(X_test,Y_test, verbose=0)\r\n",
        "print(\"Test score:\", score[0])\r\n",
        "print(\"Test accuracy:\", score[1])\r\n",
        "\r\n",
        "fig,ax= plt.subplots(1,1)\r\n",
        "ax.set_xlabel('epoch'); ax.set_ylabel('Categorical Crossentropy Loss')\r\n",
        "\r\n",
        "x= list(range(1, epoch+1))\r\n",
        "vy= history.history['val_loss']\r\n",
        "ty= history.history['loss']\r\n",
        "plt_dynamic(x,vy,ty,ax)"
      ],
      "execution_count": 49,
      "outputs": [
        {
          "output_type": "stream",
          "text": [
            "Test score: 0.08843984454870224\n",
            "Test accuracy: 0.9725000262260437\n"
          ],
          "name": "stdout"
        },
        {
          "output_type": "display_data",
          "data": {
            "image/png": "[encoded data removed]",
            "text/plain": [
              "<Figure size 432x288 with 1 Axes>"
            ]
          },
          "metadata": {
            "tags": [],
            "needs_background": "light"
          }
        }
      ]
    },
    {
      "cell_type": "markdown",
      "metadata": {
        "id": "JT0oMc2xuM8h"
      },
      "source": [
        "From above observations we can conclude that Adam optimizer is the best optimizer so far because it reaches its minima in very less number of epochs as compared to other optimizers . SGD is the slowest optimizer ."
      ]
    }
  ]
}